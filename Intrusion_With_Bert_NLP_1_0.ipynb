{
  "nbformat": 4,
  "nbformat_minor": 0,
  "metadata": {
    "kernelspec": {
      "display_name": "Python 3",
      "language": "python",
      "name": "python3"
    },
    "language_info": {
      "codemirror_mode": {
        "name": "ipython",
        "version": 3
      },
      "file_extension": ".py",
      "mimetype": "text/x-python",
      "name": "python",
      "nbconvert_exporter": "python",
      "pygments_lexer": "ipython3",
      "version": "3.8.5"
    },
    "colab": {
      "name": "Intrusion_With_Bert_NLP_1.0.ipynb",
      "provenance": [],
      "collapsed_sections": [],
      "toc_visible": true
    },
    "accelerator": "GPU"
  },
  "cells": [
    {
      "cell_type": "markdown",
      "metadata": {
        "id": "VpI2Sm29SXF8"
      },
      "source": [
        "#NLP BERT Classification"
      ]
    },
    {
      "cell_type": "markdown",
      "metadata": {
        "id": "_NlBzfBfSeO1"
      },
      "source": [
        "BERT (Bidirectional Encoder Representations from Transformers) is a Natural Language Processing Model proposed by researchers at Google Research in 2018. When it was proposed it achieve state-of-the-art accuracy on many NLP and NLU tasks\n",
        "\n",
        "in this program bert base model is used and for loading the model pytorch lib is used."
      ]
    },
    {
      "cell_type": "code",
      "metadata": {
        "colab": {
          "base_uri": "https://localhost:8080/"
        },
        "id": "7_FXneEfpdMM",
        "outputId": "77ba12ec-2815-41df-fe97-29d8d7dfb25a"
      },
      "source": [
        "!pip install pytorch_pretrained_bert pytorch-nlp"
      ],
      "execution_count": 32,
      "outputs": [
        {
          "output_type": "stream",
          "text": [
            "Collecting pytorch_pretrained_bert\n",
            "\u001b[?25l  Downloading https://files.pythonhosted.org/packages/d7/e0/c08d5553b89973d9a240605b9c12404bcf8227590de62bae27acbcfe076b/pytorch_pretrained_bert-0.6.2-py3-none-any.whl (123kB)\n",
            "\r\u001b[K     |██▋                             | 10kB 20.1MB/s eta 0:00:01\r\u001b[K     |█████▎                          | 20kB 27.1MB/s eta 0:00:01\r\u001b[K     |████████                        | 30kB 21.8MB/s eta 0:00:01\r\u001b[K     |██████████▋                     | 40kB 21.0MB/s eta 0:00:01\r\u001b[K     |█████████████▎                  | 51kB 21.5MB/s eta 0:00:01\r\u001b[K     |███████████████▉                | 61kB 16.0MB/s eta 0:00:01\r\u001b[K     |██████████████████▌             | 71kB 16.1MB/s eta 0:00:01\r\u001b[K     |█████████████████████▏          | 81kB 15.5MB/s eta 0:00:01\r\u001b[K     |███████████████████████▉        | 92kB 15.7MB/s eta 0:00:01\r\u001b[K     |██████████████████████████▌     | 102kB 16.2MB/s eta 0:00:01\r\u001b[K     |█████████████████████████████▏  | 112kB 16.2MB/s eta 0:00:01\r\u001b[K     |███████████████████████████████▊| 122kB 16.2MB/s eta 0:00:01\r\u001b[K     |████████████████████████████████| 133kB 16.2MB/s \n",
            "\u001b[?25hCollecting pytorch-nlp\n",
            "\u001b[?25l  Downloading https://files.pythonhosted.org/packages/4f/51/f0ee1efb75f7cc2e3065c5da1363d6be2eec79691b2821594f3f2329528c/pytorch_nlp-0.5.0-py3-none-any.whl (90kB)\n",
            "\r\u001b[K     |███▋                            | 10kB 29.9MB/s eta 0:00:01\r\u001b[K     |███████▎                        | 20kB 38.5MB/s eta 0:00:01\r\u001b[K     |███████████                     | 30kB 42.4MB/s eta 0:00:01\r\u001b[K     |██████████████▌                 | 40kB 43.7MB/s eta 0:00:01\r\u001b[K     |██████████████████▏             | 51kB 45.6MB/s eta 0:00:01\r\u001b[K     |█████████████████████▉          | 61kB 40.5MB/s eta 0:00:01\r\u001b[K     |█████████████████████████▌      | 71kB 41.0MB/s eta 0:00:01\r\u001b[K     |█████████████████████████████   | 81kB 35.3MB/s eta 0:00:01\r\u001b[K     |████████████████████████████████| 92kB 12.2MB/s \n",
            "\u001b[?25hRequirement already satisfied: torch>=0.4.1 in /usr/local/lib/python3.7/dist-packages (from pytorch_pretrained_bert) (1.7.1+cu101)\n",
            "Requirement already satisfied: requests in /usr/local/lib/python3.7/dist-packages (from pytorch_pretrained_bert) (2.23.0)\n",
            "Requirement already satisfied: tqdm in /usr/local/lib/python3.7/dist-packages (from pytorch_pretrained_bert) (4.41.1)\n",
            "Requirement already satisfied: regex in /usr/local/lib/python3.7/dist-packages (from pytorch_pretrained_bert) (2019.12.20)\n",
            "Requirement already satisfied: numpy in /usr/local/lib/python3.7/dist-packages (from pytorch_pretrained_bert) (1.19.5)\n",
            "Collecting boto3\n",
            "\u001b[?25l  Downloading https://files.pythonhosted.org/packages/48/84/7403268cd52f7d420fd0e2b3bdf524a440d8b2eda6097daeb0a5c55b3e49/boto3-1.17.22-py2.py3-none-any.whl (130kB)\n",
            "\u001b[K     |████████████████████████████████| 133kB 55.0MB/s \n",
            "\u001b[?25hRequirement already satisfied: typing-extensions in /usr/local/lib/python3.7/dist-packages (from torch>=0.4.1->pytorch_pretrained_bert) (3.7.4.3)\n",
            "Requirement already satisfied: urllib3!=1.25.0,!=1.25.1,<1.26,>=1.21.1 in /usr/local/lib/python3.7/dist-packages (from requests->pytorch_pretrained_bert) (1.24.3)\n",
            "Requirement already satisfied: idna<3,>=2.5 in /usr/local/lib/python3.7/dist-packages (from requests->pytorch_pretrained_bert) (2.10)\n",
            "Requirement already satisfied: certifi>=2017.4.17 in /usr/local/lib/python3.7/dist-packages (from requests->pytorch_pretrained_bert) (2020.12.5)\n",
            "Requirement already satisfied: chardet<4,>=3.0.2 in /usr/local/lib/python3.7/dist-packages (from requests->pytorch_pretrained_bert) (3.0.4)\n",
            "Collecting botocore<1.21.0,>=1.20.22\n",
            "\u001b[?25l  Downloading https://files.pythonhosted.org/packages/8c/d8/0069415ca12180b94d368c60dcce9c0680dc5cfc1aed36882ac452fcf2bf/botocore-1.20.22-py2.py3-none-any.whl (7.3MB)\n",
            "\u001b[K     |████████████████████████████████| 7.3MB 18.6MB/s \n",
            "\u001b[?25hCollecting jmespath<1.0.0,>=0.7.1\n",
            "  Downloading https://files.pythonhosted.org/packages/07/cb/5f001272b6faeb23c1c9e0acc04d48eaaf5c862c17709d20e3469c6e0139/jmespath-0.10.0-py2.py3-none-any.whl\n",
            "Collecting s3transfer<0.4.0,>=0.3.0\n",
            "\u001b[?25l  Downloading https://files.pythonhosted.org/packages/ea/43/4b4a1b26eb03a429a4c37ca7fdf369d938bd60018fc194e94b8379b0c77c/s3transfer-0.3.4-py2.py3-none-any.whl (69kB)\n",
            "\u001b[K     |████████████████████████████████| 71kB 12.0MB/s \n",
            "\u001b[?25hRequirement already satisfied: python-dateutil<3.0.0,>=2.1 in /usr/local/lib/python3.7/dist-packages (from botocore<1.21.0,>=1.20.22->boto3->pytorch_pretrained_bert) (2.8.1)\n",
            "Requirement already satisfied: six>=1.5 in /usr/local/lib/python3.7/dist-packages (from python-dateutil<3.0.0,>=2.1->botocore<1.21.0,>=1.20.22->boto3->pytorch_pretrained_bert) (1.15.0)\n",
            "\u001b[31mERROR: botocore 1.20.22 has requirement urllib3<1.27,>=1.25.4, but you'll have urllib3 1.24.3 which is incompatible.\u001b[0m\n",
            "Installing collected packages: jmespath, botocore, s3transfer, boto3, pytorch-pretrained-bert, pytorch-nlp\n",
            "Successfully installed boto3-1.17.22 botocore-1.20.22 jmespath-0.10.0 pytorch-nlp-0.5.0 pytorch-pretrained-bert-0.6.2 s3transfer-0.3.4\n"
          ],
          "name": "stdout"
        }
      ]
    },
    {
      "cell_type": "markdown",
      "metadata": {
        "id": "CCY4QY7tqoDk"
      },
      "source": [
        "#Importing Libs"
      ]
    },
    {
      "cell_type": "code",
      "metadata": {
        "id": "EnVIV6Vt8f4d"
      },
      "source": [
        "import sys\n",
        "import numpy as np\n",
        "import pandas as pd\n",
        "import random as rn\n",
        "import torch\n",
        "from pytorch_pretrained_bert import BertModel\n",
        "from torch import nn\n",
        "from pytorch_pretrained_bert import BertTokenizer\n",
        "from keras.preprocessing.sequence import pad_sequences\n",
        "from torch.utils.data import TensorDataset, DataLoader, RandomSampler, SequentialSampler\n",
        "from torch.optim import Adam\n",
        "from torch.nn.utils import clip_grad_norm_\n",
        "from IPython.display import clear_output"
      ],
      "execution_count": 33,
      "outputs": []
    },
    {
      "cell_type": "markdown",
      "metadata": {
        "id": "OUTTLK-usP7z"
      },
      "source": [
        "## Process the files\n",
        "\n",
        "Since, we have the system call names for only one file, we will be using that to convert other files' system call number to system call name"
      ]
    },
    {
      "cell_type": "code",
      "metadata": {
        "colab": {
          "base_uri": "https://localhost:8080/"
        },
        "id": "BV9puya1sml9",
        "outputId": "09d3f402-0fa8-467b-c31c-b242f424a77b"
      },
      "source": [
        "from google.colab import drive\n",
        "drive.mount('/content/drive')"
      ],
      "execution_count": 2,
      "outputs": [
        {
          "output_type": "stream",
          "text": [
            "Mounted at /content/drive\n"
          ],
          "name": "stdout"
        }
      ]
    },
    {
      "cell_type": "code",
      "metadata": {
        "id": "8kEpri7ksP73"
      },
      "source": [
        "# Following file is having the system call names\n",
        "intrusion_1_txt = pd.read_csv('/content/drive/MyDrive/NLP_BERT/result-sm-10763.txt',header=None,sep=\"\\s+\",names=[\"users\",\"syscalls\"])"
      ],
      "execution_count": 3,
      "outputs": []
    },
    {
      "cell_type": "code",
      "metadata": {
        "id": "8TKw5CjIsP75"
      },
      "source": [
        "# Following file is having the system call ids for the same above\n",
        "intrusion_1_i = pd.read_csv('/content/drive/MyDrive/NLP_BERT/sm-10763.int',header=None,sep=\"\\s+\",names=[\"users\",\"syscalls\"])"
      ],
      "execution_count": 4,
      "outputs": []
    },
    {
      "cell_type": "code",
      "metadata": {
        "id": "gbUWnrQ7sP77"
      },
      "source": [
        "# We will use this two file to map system call number and call names\n",
        "intrusion_1_i[\"text_syscalls\"] = intrusion_1_txt.syscalls"
      ],
      "execution_count": 5,
      "outputs": []
    },
    {
      "cell_type": "code",
      "metadata": {
        "id": "cLYmbQSGsP7-"
      },
      "source": [
        "# Create Map of Sys calls to  int to text\n",
        "call_maps = {}\n",
        "for i in range(len(intrusion_1_i.syscalls)):\n",
        "    call_maps[intrusion_1_i.syscalls[i]] = intrusion_1_i.text_syscalls[i]"
      ],
      "execution_count": 6,
      "outputs": []
    },
    {
      "cell_type": "code",
      "metadata": {
        "colab": {
          "base_uri": "https://localhost:8080/"
        },
        "id": "Fp6x7lEqsP8D",
        "outputId": "91f3401f-802d-4014-d81c-80015439eca5"
      },
      "source": [
        "# Following is the System number and System name map and will use to convert other \n",
        "call_maps"
      ],
      "execution_count": 7,
      "outputs": [
        {
          "output_type": "execute_result",
          "data": {
            "text/plain": [
              "{2: 'read',\n",
              " 3: 'write',\n",
              " 4: 'open',\n",
              " 5: 'close',\n",
              " 7: 'creat',\n",
              " 8: 'link',\n",
              " 9: 'unlink',\n",
              " 11: 'chdir',\n",
              " 14: 'chmod',\n",
              " 17: 'stat',\n",
              " 18: 'lseek',\n",
              " 19: 'getpid',\n",
              " 23: 'getuid',\n",
              " 27: 'fstat',\n",
              " 32: 'access',\n",
              " 45: 'getgid',\n",
              " 50: 'ioctl',\n",
              " 56: 'umask',\n",
              " 59: 'getpagesize',\n",
              " 66: 'mmap',\n",
              " 78: 'setitimer',\n",
              " 83: 'gethostname',\n",
              " 85: 'getdtablesize',\n",
              " 88: 'fcntl',\n",
              " 89: 'select',\n",
              " 93: 'socket',\n",
              " 94: 'connect',\n",
              " 100: 'bind',\n",
              " 104: 'sigvec',\n",
              " 105: 'sigblock',\n",
              " 106: 'sigsetmask',\n",
              " 108: 'sigstack',\n",
              " 112: 'gettimeofday',\n",
              " 121: 'recvfrom',\n",
              " 128: 'sendto',\n",
              " 138: 'getrlimit',\n",
              " 155: 'getdomainname',\n",
              " 167: 'getdents'}"
            ]
          },
          "metadata": {
            "tags": []
          },
          "execution_count": 7
        }
      ]
    },
    {
      "cell_type": "markdown",
      "metadata": {
        "id": "7-5ZN2NesP8L"
      },
      "source": [
        "### Convert other system call numbers to names"
      ]
    },
    {
      "cell_type": "markdown",
      "metadata": {
        "id": "HCAMwg1frEQf"
      },
      "source": [
        "#### Convert call of Intrusion 2 "
      ]
    },
    {
      "cell_type": "code",
      "metadata": {
        "colab": {
          "base_uri": "https://localhost:8080/"
        },
        "id": "S9WCNfT0sP8O",
        "outputId": "8f330635-06b0-4aa5-a8df-a7f71eca43f6"
      },
      "source": [
        "\n",
        "intrusion_2 = pd.read_csv(\"/content/drive/MyDrive/NLP_BERT/sm-10801.int\",header=None,sep=\"\\s+\",names=[\"users\",\"syscalls\"])\n",
        "\n",
        "intrusion_2[\"text_syscalls\"] = \"a\"  # Tmp place holder\n",
        "\n",
        "for i in range(len(intrusion_2.syscalls)):\n",
        "    \n",
        "    if intrusion_2.syscalls[i] in call_maps.keys():\n",
        "        # If there is system call name for the number in dict then use that\n",
        "        intrusion_2.text_syscalls[i] = call_maps[intrusion_2.syscalls[i]]\n",
        "    else:\n",
        "        # If there is not system call name for the nuber in the dict then randomly select one and \n",
        "        # Sotre it \n",
        "        scall =np.random.choice(list(call_maps.values()))\n",
        "        intrusion_2.text_syscalls[i] = scall"
      ],
      "execution_count": 8,
      "outputs": [
        {
          "output_type": "stream",
          "text": [
            "/usr/local/lib/python3.7/dist-packages/ipykernel_launcher.py:10: SettingWithCopyWarning: \n",
            "A value is trying to be set on a copy of a slice from a DataFrame\n",
            "\n",
            "See the caveats in the documentation: https://pandas.pydata.org/pandas-docs/stable/user_guide/indexing.html#returning-a-view-versus-a-copy\n",
            "  # Remove the CWD from sys.path while we load stuff.\n"
          ],
          "name": "stderr"
        }
      ]
    },
    {
      "cell_type": "code",
      "metadata": {
        "colab": {
          "base_uri": "https://localhost:8080/"
        },
        "id": "KIdgLtcasP8S",
        "outputId": "f53759c1-00bb-497c-b87c-fc3fa083535b"
      },
      "source": [
        "# Convert call of Bounce -1  \n",
        "bounce_1 = pd.read_csv(\"/content/drive/MyDrive/NLP_BERT/bounce-1.int\",header=None,sep=\"\\s+\",names=[\"users\",\"syscalls\"])\n",
        "\n",
        "bounce_1 [\"text_syscalls\"] = \"a\"  # Tmp place holder\n",
        "\n",
        "for i in range(len(bounce_1.syscalls)):\n",
        "    \n",
        "    if bounce_1.syscalls[i] in call_maps.keys():\n",
        "        # If there is system call name for the number in dict then use that\n",
        "        bounce_1.text_syscalls[i] = call_maps[bounce_1.syscalls[i]]\n",
        "    else:\n",
        "        # If there is not system call name for the nuber in the dict then randomly select one and \n",
        "        # Sotre it \n",
        "        scall =np.random.choice(list(call_maps.values()))\n",
        "        bounce_1.text_syscalls[i] = scall"
      ],
      "execution_count": 9,
      "outputs": [
        {
          "output_type": "stream",
          "text": [
            "/usr/local/lib/python3.7/dist-packages/ipykernel_launcher.py:10: SettingWithCopyWarning: \n",
            "A value is trying to be set on a copy of a slice from a DataFrame\n",
            "\n",
            "See the caveats in the documentation: https://pandas.pydata.org/pandas-docs/stable/user_guide/indexing.html#returning-a-view-versus-a-copy\n",
            "  # Remove the CWD from sys.path while we load stuff.\n",
            "/usr/local/lib/python3.7/dist-packages/ipykernel_launcher.py:15: SettingWithCopyWarning: \n",
            "A value is trying to be set on a copy of a slice from a DataFrame\n",
            "\n",
            "See the caveats in the documentation: https://pandas.pydata.org/pandas-docs/stable/user_guide/indexing.html#returning-a-view-versus-a-copy\n",
            "  from ipykernel import kernelapp as app\n"
          ],
          "name": "stderr"
        }
      ]
    },
    {
      "cell_type": "code",
      "metadata": {
        "colab": {
          "base_uri": "https://localhost:8080/"
        },
        "id": "s0KRn3RpsP8W",
        "outputId": "4b414386-c392-41f0-bdda-b1fdb899ad9b"
      },
      "source": [
        "# Convert call of Bounce -1  \n",
        "bounce_2 = pd.read_csv(\"/content/drive/MyDrive/NLP_BERT/bounce-2.int\",header=None,sep=\"\\s+\",names=[\"users\",\"syscalls\"])\n",
        "\n",
        "bounce_2 [\"text_syscalls\"] = \"a\"  # Tmp place holder\n",
        "\n",
        "for i in range(len(bounce_2.syscalls)):\n",
        "    \n",
        "    if bounce_2.syscalls[i] in call_maps.keys():\n",
        "        # If there is system call name for the number in dict then use that\n",
        "        bounce_2.text_syscalls[i] = call_maps[bounce_2.syscalls[i]]\n",
        "    else:\n",
        "        # If there is not system call name for the nuber in the dict then randomly select one and \n",
        "        # Sotre it \n",
        "        scall =np.random.choice(list(call_maps.values()))\n",
        "        bounce_2.text_syscalls[i] = scall"
      ],
      "execution_count": 10,
      "outputs": [
        {
          "output_type": "stream",
          "text": [
            "/usr/local/lib/python3.7/dist-packages/ipykernel_launcher.py:10: SettingWithCopyWarning: \n",
            "A value is trying to be set on a copy of a slice from a DataFrame\n",
            "\n",
            "See the caveats in the documentation: https://pandas.pydata.org/pandas-docs/stable/user_guide/indexing.html#returning-a-view-versus-a-copy\n",
            "  # Remove the CWD from sys.path while we load stuff.\n",
            "/usr/local/lib/python3.7/dist-packages/ipykernel_launcher.py:15: SettingWithCopyWarning: \n",
            "A value is trying to be set on a copy of a slice from a DataFrame\n",
            "\n",
            "See the caveats in the documentation: https://pandas.pydata.org/pandas-docs/stable/user_guide/indexing.html#returning-a-view-versus-a-copy\n",
            "  from ipykernel import kernelapp as app\n"
          ],
          "name": "stderr"
        }
      ]
    },
    {
      "cell_type": "markdown",
      "metadata": {
        "id": "1NiTlfogsP8c"
      },
      "source": [
        "## Combine The data"
      ]
    },
    {
      "cell_type": "code",
      "metadata": {
        "id": "qmNxmv0bsP8f"
      },
      "source": [
        "# Combine individual\n",
        "intruder = intrusion_1_i.append(intrusion_2)  # Combine Intrution data\n",
        "user_data = bounce_1.append(bounce_2)  # Normal User Data"
      ],
      "execution_count": 11,
      "outputs": []
    },
    {
      "cell_type": "code",
      "metadata": {
        "id": "WHPXDL-NsP8g"
      },
      "source": [
        "# Drop Neumeric data line\n",
        "intruder = intruder.drop(\"syscalls\",axis=1)\n",
        "user_data = user_data.drop(\"syscalls\",axis=1)"
      ],
      "execution_count": 12,
      "outputs": []
    },
    {
      "cell_type": "code",
      "metadata": {
        "colab": {
          "base_uri": "https://localhost:8080/",
          "height": 424
        },
        "id": "ZDNaheNOsP8i",
        "outputId": "85a845c2-7e35-4201-f9bd-52dea2a2966d"
      },
      "source": [
        "intruder"
      ],
      "execution_count": 13,
      "outputs": [
        {
          "output_type": "execute_result",
          "data": {
            "text/html": [
              "<div>\n",
              "<style scoped>\n",
              "    .dataframe tbody tr th:only-of-type {\n",
              "        vertical-align: middle;\n",
              "    }\n",
              "\n",
              "    .dataframe tbody tr th {\n",
              "        vertical-align: top;\n",
              "    }\n",
              "\n",
              "    .dataframe thead th {\n",
              "        text-align: right;\n",
              "    }\n",
              "</style>\n",
              "<table border=\"1\" class=\"dataframe\">\n",
              "  <thead>\n",
              "    <tr style=\"text-align: right;\">\n",
              "      <th></th>\n",
              "      <th>users</th>\n",
              "      <th>text_syscalls</th>\n",
              "    </tr>\n",
              "  </thead>\n",
              "  <tbody>\n",
              "    <tr>\n",
              "      <th>0</th>\n",
              "      <td>10765</td>\n",
              "      <td>open</td>\n",
              "    </tr>\n",
              "    <tr>\n",
              "      <th>1</th>\n",
              "      <td>10765</td>\n",
              "      <td>read</td>\n",
              "    </tr>\n",
              "    <tr>\n",
              "      <th>2</th>\n",
              "      <td>10765</td>\n",
              "      <td>mmap</td>\n",
              "    </tr>\n",
              "    <tr>\n",
              "      <th>3</th>\n",
              "      <td>10765</td>\n",
              "      <td>mmap</td>\n",
              "    </tr>\n",
              "    <tr>\n",
              "      <th>4</th>\n",
              "      <td>10765</td>\n",
              "      <td>open</td>\n",
              "    </tr>\n",
              "    <tr>\n",
              "      <th>...</th>\n",
              "      <td>...</td>\n",
              "      <td>...</td>\n",
              "    </tr>\n",
              "    <tr>\n",
              "      <th>368</th>\n",
              "      <td>10803</td>\n",
              "      <td>close</td>\n",
              "    </tr>\n",
              "    <tr>\n",
              "      <th>369</th>\n",
              "      <td>10803</td>\n",
              "      <td>close</td>\n",
              "    </tr>\n",
              "    <tr>\n",
              "      <th>370</th>\n",
              "      <td>10803</td>\n",
              "      <td>close</td>\n",
              "    </tr>\n",
              "    <tr>\n",
              "      <th>371</th>\n",
              "      <td>10803</td>\n",
              "      <td>close</td>\n",
              "    </tr>\n",
              "    <tr>\n",
              "      <th>372</th>\n",
              "      <td>10803</td>\n",
              "      <td>close</td>\n",
              "    </tr>\n",
              "  </tbody>\n",
              "</table>\n",
              "<p>746 rows × 2 columns</p>\n",
              "</div>"
            ],
            "text/plain": [
              "     users text_syscalls\n",
              "0    10765          open\n",
              "1    10765          read\n",
              "2    10765          mmap\n",
              "3    10765          mmap\n",
              "4    10765          open\n",
              "..     ...           ...\n",
              "368  10803         close\n",
              "369  10803         close\n",
              "370  10803         close\n",
              "371  10803         close\n",
              "372  10803         close\n",
              "\n",
              "[746 rows x 2 columns]"
            ]
          },
          "metadata": {
            "tags": []
          },
          "execution_count": 13
        }
      ]
    },
    {
      "cell_type": "code",
      "metadata": {
        "colab": {
          "base_uri": "https://localhost:8080/",
          "height": 424
        },
        "id": "f6Jg02v0sP8k",
        "outputId": "39358059-a625-4886-d7bb-c255556b7bca"
      },
      "source": [
        "user_data"
      ],
      "execution_count": 14,
      "outputs": [
        {
          "output_type": "execute_result",
          "data": {
            "text/html": [
              "<div>\n",
              "<style scoped>\n",
              "    .dataframe tbody tr th:only-of-type {\n",
              "        vertical-align: middle;\n",
              "    }\n",
              "\n",
              "    .dataframe tbody tr th {\n",
              "        vertical-align: top;\n",
              "    }\n",
              "\n",
              "    .dataframe thead th {\n",
              "        text-align: right;\n",
              "    }\n",
              "</style>\n",
              "<table border=\"1\" class=\"dataframe\">\n",
              "  <thead>\n",
              "    <tr style=\"text-align: right;\">\n",
              "      <th></th>\n",
              "      <th>users</th>\n",
              "      <th>text_syscalls</th>\n",
              "    </tr>\n",
              "  </thead>\n",
              "  <tbody>\n",
              "    <tr>\n",
              "      <th>0</th>\n",
              "      <td>1401</td>\n",
              "      <td>open</td>\n",
              "    </tr>\n",
              "    <tr>\n",
              "      <th>1</th>\n",
              "      <td>1401</td>\n",
              "      <td>read</td>\n",
              "    </tr>\n",
              "    <tr>\n",
              "      <th>2</th>\n",
              "      <td>1401</td>\n",
              "      <td>mmap</td>\n",
              "    </tr>\n",
              "    <tr>\n",
              "      <th>3</th>\n",
              "      <td>1401</td>\n",
              "      <td>mmap</td>\n",
              "    </tr>\n",
              "    <tr>\n",
              "      <th>4</th>\n",
              "      <td>1401</td>\n",
              "      <td>open</td>\n",
              "    </tr>\n",
              "    <tr>\n",
              "      <th>...</th>\n",
              "      <td>...</td>\n",
              "      <td>...</td>\n",
              "    </tr>\n",
              "    <tr>\n",
              "      <th>734</th>\n",
              "      <td>1414</td>\n",
              "      <td>close</td>\n",
              "    </tr>\n",
              "    <tr>\n",
              "      <th>735</th>\n",
              "      <td>1414</td>\n",
              "      <td>close</td>\n",
              "    </tr>\n",
              "    <tr>\n",
              "      <th>736</th>\n",
              "      <td>1414</td>\n",
              "      <td>close</td>\n",
              "    </tr>\n",
              "    <tr>\n",
              "      <th>737</th>\n",
              "      <td>1414</td>\n",
              "      <td>close</td>\n",
              "    </tr>\n",
              "    <tr>\n",
              "      <th>738</th>\n",
              "      <td>1414</td>\n",
              "      <td>close</td>\n",
              "    </tr>\n",
              "  </tbody>\n",
              "</table>\n",
              "<p>1032 rows × 2 columns</p>\n",
              "</div>"
            ],
            "text/plain": [
              "     users text_syscalls\n",
              "0     1401          open\n",
              "1     1401          read\n",
              "2     1401          mmap\n",
              "3     1401          mmap\n",
              "4     1401          open\n",
              "..     ...           ...\n",
              "734   1414         close\n",
              "735   1414         close\n",
              "736   1414         close\n",
              "737   1414         close\n",
              "738   1414         close\n",
              "\n",
              "[1032 rows x 2 columns]"
            ]
          },
          "metadata": {
            "tags": []
          },
          "execution_count": 14
        }
      ]
    },
    {
      "cell_type": "code",
      "metadata": {
        "id": "hM3Mkwi7sP8l"
      },
      "source": [
        "df_intr = intruder.rename(columns= {\"users\":\"PID\", \"text_syscalls\":\"Syscall\"})"
      ],
      "execution_count": 15,
      "outputs": []
    },
    {
      "cell_type": "code",
      "metadata": {
        "id": "is_B7AbUsP8n"
      },
      "source": [
        "df_usr = user_data.rename(columns= {\"users\":\"PID\", \"text_syscalls\":\"Syscall\"})"
      ],
      "execution_count": 16,
      "outputs": []
    },
    {
      "cell_type": "code",
      "metadata": {
        "colab": {
          "base_uri": "https://localhost:8080/",
          "height": 206
        },
        "id": "RFQS9CyWsP8o",
        "outputId": "2d29f2da-94db-428e-9154-ea3ca38a7089"
      },
      "source": [
        "df_intr.head()"
      ],
      "execution_count": 17,
      "outputs": [
        {
          "output_type": "execute_result",
          "data": {
            "text/html": [
              "<div>\n",
              "<style scoped>\n",
              "    .dataframe tbody tr th:only-of-type {\n",
              "        vertical-align: middle;\n",
              "    }\n",
              "\n",
              "    .dataframe tbody tr th {\n",
              "        vertical-align: top;\n",
              "    }\n",
              "\n",
              "    .dataframe thead th {\n",
              "        text-align: right;\n",
              "    }\n",
              "</style>\n",
              "<table border=\"1\" class=\"dataframe\">\n",
              "  <thead>\n",
              "    <tr style=\"text-align: right;\">\n",
              "      <th></th>\n",
              "      <th>PID</th>\n",
              "      <th>Syscall</th>\n",
              "    </tr>\n",
              "  </thead>\n",
              "  <tbody>\n",
              "    <tr>\n",
              "      <th>0</th>\n",
              "      <td>10765</td>\n",
              "      <td>open</td>\n",
              "    </tr>\n",
              "    <tr>\n",
              "      <th>1</th>\n",
              "      <td>10765</td>\n",
              "      <td>read</td>\n",
              "    </tr>\n",
              "    <tr>\n",
              "      <th>2</th>\n",
              "      <td>10765</td>\n",
              "      <td>mmap</td>\n",
              "    </tr>\n",
              "    <tr>\n",
              "      <th>3</th>\n",
              "      <td>10765</td>\n",
              "      <td>mmap</td>\n",
              "    </tr>\n",
              "    <tr>\n",
              "      <th>4</th>\n",
              "      <td>10765</td>\n",
              "      <td>open</td>\n",
              "    </tr>\n",
              "  </tbody>\n",
              "</table>\n",
              "</div>"
            ],
            "text/plain": [
              "     PID Syscall\n",
              "0  10765    open\n",
              "1  10765    read\n",
              "2  10765    mmap\n",
              "3  10765    mmap\n",
              "4  10765    open"
            ]
          },
          "metadata": {
            "tags": []
          },
          "execution_count": 17
        }
      ]
    },
    {
      "cell_type": "code",
      "metadata": {
        "colab": {
          "base_uri": "https://localhost:8080/",
          "height": 206
        },
        "id": "kkZminqdsP8r",
        "outputId": "c4e56ff2-fd9e-49c1-d469-2aa066ea41ac"
      },
      "source": [
        "df_usr.head()"
      ],
      "execution_count": 18,
      "outputs": [
        {
          "output_type": "execute_result",
          "data": {
            "text/html": [
              "<div>\n",
              "<style scoped>\n",
              "    .dataframe tbody tr th:only-of-type {\n",
              "        vertical-align: middle;\n",
              "    }\n",
              "\n",
              "    .dataframe tbody tr th {\n",
              "        vertical-align: top;\n",
              "    }\n",
              "\n",
              "    .dataframe thead th {\n",
              "        text-align: right;\n",
              "    }\n",
              "</style>\n",
              "<table border=\"1\" class=\"dataframe\">\n",
              "  <thead>\n",
              "    <tr style=\"text-align: right;\">\n",
              "      <th></th>\n",
              "      <th>PID</th>\n",
              "      <th>Syscall</th>\n",
              "    </tr>\n",
              "  </thead>\n",
              "  <tbody>\n",
              "    <tr>\n",
              "      <th>0</th>\n",
              "      <td>1401</td>\n",
              "      <td>open</td>\n",
              "    </tr>\n",
              "    <tr>\n",
              "      <th>1</th>\n",
              "      <td>1401</td>\n",
              "      <td>read</td>\n",
              "    </tr>\n",
              "    <tr>\n",
              "      <th>2</th>\n",
              "      <td>1401</td>\n",
              "      <td>mmap</td>\n",
              "    </tr>\n",
              "    <tr>\n",
              "      <th>3</th>\n",
              "      <td>1401</td>\n",
              "      <td>mmap</td>\n",
              "    </tr>\n",
              "    <tr>\n",
              "      <th>4</th>\n",
              "      <td>1401</td>\n",
              "      <td>open</td>\n",
              "    </tr>\n",
              "  </tbody>\n",
              "</table>\n",
              "</div>"
            ],
            "text/plain": [
              "    PID Syscall\n",
              "0  1401    open\n",
              "1  1401    read\n",
              "2  1401    mmap\n",
              "3  1401    mmap\n",
              "4  1401    open"
            ]
          },
          "metadata": {
            "tags": []
          },
          "execution_count": 18
        }
      ]
    },
    {
      "cell_type": "code",
      "metadata": {
        "id": "8eELyEO4sP8t"
      },
      "source": [
        "# Group normal df by PID, so the sequences appear by PID instead of by order cuz it can be interrupted by other PID\n",
        "filt = df_usr.groupby(['PID'])\n",
        "normal = pd.DataFrame()\n",
        "\n",
        "pidList = df_usr['PID'].unique()   # Get unique PIDs in pid\n",
        "for p in pidList:\n",
        "    normal = normal.append(filt.get_group(p), ignore_index=True)\n",
        "# Drop PID column to train model on just syscall\n",
        "normal.drop(axis = 1, columns='PID', inplace= True)\n",
        "\n",
        "\n",
        "# Do the same thing to intrusion PID\n",
        "filt = df_intr.groupby(['PID'])\n",
        "intrusion = pd.DataFrame()\n",
        "\n",
        "pidList = df_intr['PID'].unique()   # Get unique PIDs in pid\n",
        "for p in pidList:\n",
        "    intrusion = intrusion.append(filt.get_group(p), ignore_index=True)\n",
        "intrusion.drop(axis = 1, columns='PID', inplace=True)"
      ],
      "execution_count": 19,
      "outputs": []
    },
    {
      "cell_type": "code",
      "metadata": {
        "colab": {
          "base_uri": "https://localhost:8080/",
          "height": 363
        },
        "id": "iTv6BENEsP8u",
        "outputId": "7136140f-445e-457c-b3b5-df701d137a60"
      },
      "source": [
        "normal.head(10)"
      ],
      "execution_count": 20,
      "outputs": [
        {
          "output_type": "execute_result",
          "data": {
            "text/html": [
              "<div>\n",
              "<style scoped>\n",
              "    .dataframe tbody tr th:only-of-type {\n",
              "        vertical-align: middle;\n",
              "    }\n",
              "\n",
              "    .dataframe tbody tr th {\n",
              "        vertical-align: top;\n",
              "    }\n",
              "\n",
              "    .dataframe thead th {\n",
              "        text-align: right;\n",
              "    }\n",
              "</style>\n",
              "<table border=\"1\" class=\"dataframe\">\n",
              "  <thead>\n",
              "    <tr style=\"text-align: right;\">\n",
              "      <th></th>\n",
              "      <th>Syscall</th>\n",
              "    </tr>\n",
              "  </thead>\n",
              "  <tbody>\n",
              "    <tr>\n",
              "      <th>0</th>\n",
              "      <td>open</td>\n",
              "    </tr>\n",
              "    <tr>\n",
              "      <th>1</th>\n",
              "      <td>read</td>\n",
              "    </tr>\n",
              "    <tr>\n",
              "      <th>2</th>\n",
              "      <td>mmap</td>\n",
              "    </tr>\n",
              "    <tr>\n",
              "      <th>3</th>\n",
              "      <td>mmap</td>\n",
              "    </tr>\n",
              "    <tr>\n",
              "      <th>4</th>\n",
              "      <td>open</td>\n",
              "    </tr>\n",
              "    <tr>\n",
              "      <th>5</th>\n",
              "      <td>getrlimit</td>\n",
              "    </tr>\n",
              "    <tr>\n",
              "      <th>6</th>\n",
              "      <td>mmap</td>\n",
              "    </tr>\n",
              "    <tr>\n",
              "      <th>7</th>\n",
              "      <td>close</td>\n",
              "    </tr>\n",
              "    <tr>\n",
              "      <th>8</th>\n",
              "      <td>getuid</td>\n",
              "    </tr>\n",
              "    <tr>\n",
              "      <th>9</th>\n",
              "      <td>getgid</td>\n",
              "    </tr>\n",
              "  </tbody>\n",
              "</table>\n",
              "</div>"
            ],
            "text/plain": [
              "     Syscall\n",
              "0       open\n",
              "1       read\n",
              "2       mmap\n",
              "3       mmap\n",
              "4       open\n",
              "5  getrlimit\n",
              "6       mmap\n",
              "7      close\n",
              "8     getuid\n",
              "9     getgid"
            ]
          },
          "metadata": {
            "tags": []
          },
          "execution_count": 20
        }
      ]
    },
    {
      "cell_type": "code",
      "metadata": {
        "colab": {
          "base_uri": "https://localhost:8080/",
          "height": 363
        },
        "id": "P8QUi17dsP8w",
        "outputId": "1e96ab1f-783b-4b54-a67d-29bf3e392dd2"
      },
      "source": [
        "intrusion.head(10)"
      ],
      "execution_count": 21,
      "outputs": [
        {
          "output_type": "execute_result",
          "data": {
            "text/html": [
              "<div>\n",
              "<style scoped>\n",
              "    .dataframe tbody tr th:only-of-type {\n",
              "        vertical-align: middle;\n",
              "    }\n",
              "\n",
              "    .dataframe tbody tr th {\n",
              "        vertical-align: top;\n",
              "    }\n",
              "\n",
              "    .dataframe thead th {\n",
              "        text-align: right;\n",
              "    }\n",
              "</style>\n",
              "<table border=\"1\" class=\"dataframe\">\n",
              "  <thead>\n",
              "    <tr style=\"text-align: right;\">\n",
              "      <th></th>\n",
              "      <th>Syscall</th>\n",
              "    </tr>\n",
              "  </thead>\n",
              "  <tbody>\n",
              "    <tr>\n",
              "      <th>0</th>\n",
              "      <td>open</td>\n",
              "    </tr>\n",
              "    <tr>\n",
              "      <th>1</th>\n",
              "      <td>read</td>\n",
              "    </tr>\n",
              "    <tr>\n",
              "      <th>2</th>\n",
              "      <td>mmap</td>\n",
              "    </tr>\n",
              "    <tr>\n",
              "      <th>3</th>\n",
              "      <td>mmap</td>\n",
              "    </tr>\n",
              "    <tr>\n",
              "      <th>4</th>\n",
              "      <td>open</td>\n",
              "    </tr>\n",
              "    <tr>\n",
              "      <th>5</th>\n",
              "      <td>getrlimit</td>\n",
              "    </tr>\n",
              "    <tr>\n",
              "      <th>6</th>\n",
              "      <td>mmap</td>\n",
              "    </tr>\n",
              "    <tr>\n",
              "      <th>7</th>\n",
              "      <td>close</td>\n",
              "    </tr>\n",
              "    <tr>\n",
              "      <th>8</th>\n",
              "      <td>getuid</td>\n",
              "    </tr>\n",
              "    <tr>\n",
              "      <th>9</th>\n",
              "      <td>getgid</td>\n",
              "    </tr>\n",
              "  </tbody>\n",
              "</table>\n",
              "</div>"
            ],
            "text/plain": [
              "     Syscall\n",
              "0       open\n",
              "1       read\n",
              "2       mmap\n",
              "3       mmap\n",
              "4       open\n",
              "5  getrlimit\n",
              "6       mmap\n",
              "7      close\n",
              "8     getuid\n",
              "9     getgid"
            ]
          },
          "metadata": {
            "tags": []
          },
          "execution_count": 21
        }
      ]
    },
    {
      "cell_type": "code",
      "metadata": {
        "id": "vrCIhz5psP8y"
      },
      "source": [
        "# Function dropRows calc number of rows that need to be dropped so that the df can be reshape (-1,4) evenly\n",
        "def dropRows(df):\n",
        "    r, c = df.shape\n",
        "    extra = r % 4\n",
        "    print('Drop', extra ,'rows')\n",
        "    while extra != 0:\n",
        "        df.drop([r-1], axis=0, inplace=True)\n",
        "        r, c= df.shape\n",
        "        extra = r%4"
      ],
      "execution_count": 22,
      "outputs": []
    },
    {
      "cell_type": "code",
      "metadata": {
        "colab": {
          "base_uri": "https://localhost:8080/"
        },
        "id": "5iLlxakFsP8y",
        "outputId": "5f9b7d47-b23d-4655-8997-4521f01b33e1"
      },
      "source": [
        "# Drop the 2 last rows in normal, so it's divisible by 4 (normal row = 818)\n",
        "# Drop 1 last rows in intrusion, so it's divisible by 4 (intrusion row = 373)\n",
        "print('Normal shape:',normal.shape)\n",
        "dropRows(normal)\n",
        "print('Normal new shape:',normal.shape)\n",
        "\n",
        "print('Intrusion shape:',intrusion.shape)\n",
        "dropRows(intrusion)\n",
        "print('Intrusion new shape:',intrusion.shape)"
      ],
      "execution_count": 23,
      "outputs": [
        {
          "output_type": "stream",
          "text": [
            "Normal shape: (1032, 1)\n",
            "Drop 0 rows\n",
            "Normal new shape: (1032, 1)\n",
            "Intrusion shape: (746, 1)\n",
            "Drop 2 rows\n",
            "Intrusion new shape: (744, 1)\n"
          ],
          "name": "stdout"
        }
      ]
    },
    {
      "cell_type": "code",
      "metadata": {
        "colab": {
          "base_uri": "https://localhost:8080/"
        },
        "id": "aIbzTRaNsP81",
        "outputId": "3880accb-9ab9-4cde-fb5e-655968bf04bc"
      },
      "source": [
        "# Reshape data from 1 row multiple columns to multiple rows with 4 cols\n",
        "arr = normal.to_numpy()\n",
        "type(arr)\n",
        "arr = arr.reshape((-1, 4))\n",
        "print('normal new shape:',arr.shape)\n",
        "#Change numpy arr into df\n",
        "normal = pd.DataFrame(arr)\n",
        "\n",
        "\n",
        "# Reshape data from 1 row multiple columns to multiple rows with 4 cols\n",
        "arr = intrusion.to_numpy()\n",
        "type(arr)\n",
        "arr = arr.reshape((-1, 4))\n",
        "print('intrusion new shape:',arr.shape)\n",
        "#Change numpy arr into df\n",
        "intrusion = pd.DataFrame(arr)"
      ],
      "execution_count": 24,
      "outputs": [
        {
          "output_type": "stream",
          "text": [
            "normal new shape: (258, 4)\n",
            "intrusion new shape: (186, 4)\n"
          ],
          "name": "stdout"
        }
      ]
    },
    {
      "cell_type": "code",
      "metadata": {
        "colab": {
          "base_uri": "https://localhost:8080/",
          "height": 206
        },
        "id": "K6YnPxYrsP83",
        "outputId": "a7b740c2-8c08-4c41-c459-1feae31d1d69"
      },
      "source": [
        "normal.head()"
      ],
      "execution_count": 25,
      "outputs": [
        {
          "output_type": "execute_result",
          "data": {
            "text/html": [
              "<div>\n",
              "<style scoped>\n",
              "    .dataframe tbody tr th:only-of-type {\n",
              "        vertical-align: middle;\n",
              "    }\n",
              "\n",
              "    .dataframe tbody tr th {\n",
              "        vertical-align: top;\n",
              "    }\n",
              "\n",
              "    .dataframe thead th {\n",
              "        text-align: right;\n",
              "    }\n",
              "</style>\n",
              "<table border=\"1\" class=\"dataframe\">\n",
              "  <thead>\n",
              "    <tr style=\"text-align: right;\">\n",
              "      <th></th>\n",
              "      <th>0</th>\n",
              "      <th>1</th>\n",
              "      <th>2</th>\n",
              "      <th>3</th>\n",
              "    </tr>\n",
              "  </thead>\n",
              "  <tbody>\n",
              "    <tr>\n",
              "      <th>0</th>\n",
              "      <td>open</td>\n",
              "      <td>read</td>\n",
              "      <td>mmap</td>\n",
              "      <td>mmap</td>\n",
              "    </tr>\n",
              "    <tr>\n",
              "      <th>1</th>\n",
              "      <td>open</td>\n",
              "      <td>getrlimit</td>\n",
              "      <td>mmap</td>\n",
              "      <td>close</td>\n",
              "    </tr>\n",
              "    <tr>\n",
              "      <th>2</th>\n",
              "      <td>getuid</td>\n",
              "      <td>getgid</td>\n",
              "      <td>open</td>\n",
              "      <td>fstat</td>\n",
              "    </tr>\n",
              "    <tr>\n",
              "      <th>3</th>\n",
              "      <td>mmap</td>\n",
              "      <td>close</td>\n",
              "      <td>open</td>\n",
              "      <td>read</td>\n",
              "    </tr>\n",
              "    <tr>\n",
              "      <th>4</th>\n",
              "      <td>mmap</td>\n",
              "      <td>mmap</td>\n",
              "      <td>close</td>\n",
              "      <td>open</td>\n",
              "    </tr>\n",
              "  </tbody>\n",
              "</table>\n",
              "</div>"
            ],
            "text/plain": [
              "        0          1      2      3\n",
              "0    open       read   mmap   mmap\n",
              "1    open  getrlimit   mmap  close\n",
              "2  getuid     getgid   open  fstat\n",
              "3    mmap      close   open   read\n",
              "4    mmap       mmap  close   open"
            ]
          },
          "metadata": {
            "tags": []
          },
          "execution_count": 25
        }
      ]
    },
    {
      "cell_type": "code",
      "metadata": {
        "colab": {
          "base_uri": "https://localhost:8080/",
          "height": 206
        },
        "id": "tWpY0EWgsP84",
        "outputId": "2f9f9f9d-195d-4de3-c022-dcb6e657c21b"
      },
      "source": [
        "intrusion.head()"
      ],
      "execution_count": 26,
      "outputs": [
        {
          "output_type": "execute_result",
          "data": {
            "text/html": [
              "<div>\n",
              "<style scoped>\n",
              "    .dataframe tbody tr th:only-of-type {\n",
              "        vertical-align: middle;\n",
              "    }\n",
              "\n",
              "    .dataframe tbody tr th {\n",
              "        vertical-align: top;\n",
              "    }\n",
              "\n",
              "    .dataframe thead th {\n",
              "        text-align: right;\n",
              "    }\n",
              "</style>\n",
              "<table border=\"1\" class=\"dataframe\">\n",
              "  <thead>\n",
              "    <tr style=\"text-align: right;\">\n",
              "      <th></th>\n",
              "      <th>0</th>\n",
              "      <th>1</th>\n",
              "      <th>2</th>\n",
              "      <th>3</th>\n",
              "    </tr>\n",
              "  </thead>\n",
              "  <tbody>\n",
              "    <tr>\n",
              "      <th>0</th>\n",
              "      <td>open</td>\n",
              "      <td>read</td>\n",
              "      <td>mmap</td>\n",
              "      <td>mmap</td>\n",
              "    </tr>\n",
              "    <tr>\n",
              "      <th>1</th>\n",
              "      <td>open</td>\n",
              "      <td>getrlimit</td>\n",
              "      <td>mmap</td>\n",
              "      <td>close</td>\n",
              "    </tr>\n",
              "    <tr>\n",
              "      <th>2</th>\n",
              "      <td>getuid</td>\n",
              "      <td>getgid</td>\n",
              "      <td>open</td>\n",
              "      <td>fstat</td>\n",
              "    </tr>\n",
              "    <tr>\n",
              "      <th>3</th>\n",
              "      <td>mmap</td>\n",
              "      <td>close</td>\n",
              "      <td>open</td>\n",
              "      <td>read</td>\n",
              "    </tr>\n",
              "    <tr>\n",
              "      <th>4</th>\n",
              "      <td>mmap</td>\n",
              "      <td>mmap</td>\n",
              "      <td>close</td>\n",
              "      <td>close</td>\n",
              "    </tr>\n",
              "  </tbody>\n",
              "</table>\n",
              "</div>"
            ],
            "text/plain": [
              "        0          1      2      3\n",
              "0    open       read   mmap   mmap\n",
              "1    open  getrlimit   mmap  close\n",
              "2  getuid     getgid   open  fstat\n",
              "3    mmap      close   open   read\n",
              "4    mmap       mmap  close  close"
            ]
          },
          "metadata": {
            "tags": []
          },
          "execution_count": 26
        }
      ]
    },
    {
      "cell_type": "code",
      "metadata": {
        "id": "KdjxCpmKsP85"
      },
      "source": [
        "normal_txt = []\n",
        "normal_label = []\n",
        "\n",
        "intrusion_txt = []\n",
        "intrusion_label = []\n",
        "\n",
        "\n",
        "# Connect all calls names with space in between \n",
        "for i in range(normal.shape[0]):\n",
        "    normal_txt.append(\" \".join(np.array(normal.iloc[i,:]).astype(str)))\n",
        "    normal_label.append(\"normal\")\n",
        "\n",
        "\n",
        "for i in range(intrusion.shape[0]):\n",
        "    intrusion_txt.append(\" \".join(np.array(intrusion.iloc[i,:]).astype(str)))\n",
        "    intrusion_label.append(\"intrusion\")"
      ],
      "execution_count": 27,
      "outputs": []
    },
    {
      "cell_type": "code",
      "metadata": {
        "id": "V4RsCzCwsP86"
      },
      "source": [
        "All_data = normal_txt + intrusion_txt  # Combine all data set\n",
        "All_labels = normal_label + intrusion_label"
      ],
      "execution_count": 28,
      "outputs": []
    },
    {
      "cell_type": "code",
      "metadata": {
        "id": "QZS-PfozsP86"
      },
      "source": [
        "All_data = np.array(All_data) #Convert list dataset into np array x and y both\n",
        "All_labels = np.array(All_labels)"
      ],
      "execution_count": 29,
      "outputs": []
    },
    {
      "cell_type": "markdown",
      "metadata": {
        "id": "BJvralUGrXQz"
      },
      "source": [
        "Randomly shuffel all the data"
      ]
    },
    {
      "cell_type": "code",
      "metadata": {
        "id": "POFYnc9NsP87"
      },
      "source": [
        "sd = 1114\n",
        "rnd = np.random.RandomState(sd)\n",
        "rnd.shuffle(All_data)\n",
        "\n",
        "sd = 1114\n",
        "rnd = np.random.RandomState(sd)\n",
        "rnd.shuffle(All_labels)"
      ],
      "execution_count": 30,
      "outputs": []
    },
    {
      "cell_type": "markdown",
      "metadata": {
        "id": "Xl0yLO-HuKrl"
      },
      "source": [
        "###Using sklearn train test split model to split the train and test data"
      ]
    },
    {
      "cell_type": "code",
      "metadata": {
        "id": "r-KUP9d_sP88"
      },
      "source": [
        "from sklearn.model_selection import train_test_split\n",
        "X_train, X_test, y_train, y_test = train_test_split(All_data, All_labels, test_size=0.2, random_state=1)"
      ],
      "execution_count": 31,
      "outputs": []
    },
    {
      "cell_type": "code",
      "metadata": {
        "id": "cUYrv06z8gaF"
      },
      "source": [
        "rn.seed(321)\n",
        "np.random.seed(321)\n",
        "torch.manual_seed(321)\n",
        "torch.cuda.manual_seed(321)"
      ],
      "execution_count": 34,
      "outputs": []
    },
    {
      "cell_type": "markdown",
      "metadata": {
        "id": "KUTVEt-NySXG"
      },
      "source": [
        "Store the train and test data set as per Setting of IMDB dataset Dictionary settings"
      ]
    },
    {
      "cell_type": "code",
      "metadata": {
        "id": "en6EIGzfx0zZ"
      },
      "source": [
        "train_data = []\n",
        "test_data = []\n",
        "for i,j in zip(X_train,y_train):\n",
        "    tmp_dict = {'ids':j,'text':i}\n",
        "    train_data.append(tmp_dict)\n",
        "for i,j in zip(X_test,y_test):\n",
        "    tmp_dict = {'ids':j,'text':i}\n",
        "    test_data.append(tmp_dict)"
      ],
      "execution_count": 63,
      "outputs": []
    },
    {
      "cell_type": "markdown",
      "metadata": {
        "id": "23NAliybyusH"
      },
      "source": [
        "Store the train test preperd dictionary dataset in to tuples"
      ]
    },
    {
      "cell_type": "code",
      "metadata": {
        "colab": {
          "base_uri": "https://localhost:8080/"
        },
        "id": "l1VENo6tqG7J",
        "outputId": "5c1cbe4f-5339-40bb-bd65-d7cbc153da0e"
      },
      "source": [
        "train_texts = tuple(X_train.tolist())\n",
        "train_labels = tuple(y_train.tolist())\n",
        "\n",
        "test_texts = tuple(X_test.tolist())\n",
        "test_labels = tuple(y_test.tolist())\n",
        "\n",
        "\n",
        "len(train_texts), len(train_labels), len(test_texts), len(test_labels)"
      ],
      "execution_count": 35,
      "outputs": [
        {
          "output_type": "execute_result",
          "data": {
            "text/plain": [
              "(355, 355, 89, 89)"
            ]
          },
          "metadata": {
            "tags": []
          },
          "execution_count": 35
        }
      ]
    },
    {
      "cell_type": "markdown",
      "metadata": {
        "id": "rgkbhHcB17GY"
      },
      "source": [
        "## Prepare the Data"
      ]
    },
    {
      "cell_type": "markdown",
      "metadata": {
        "id": "sRWJUVR80Zr6"
      },
      "source": [
        "call the bert tokenizer function and set the tokens to the sentances "
      ]
    },
    {
      "cell_type": "code",
      "metadata": {
        "colab": {
          "base_uri": "https://localhost:8080/"
        },
        "id": "ty24UrRjqIsb",
        "outputId": "2f3cedbc-9b9e-4764-b443-acd277470ed7"
      },
      "source": [
        "tokenizer = BertTokenizer.from_pretrained('bert-base-uncased', do_lower_case=True)"
      ],
      "execution_count": 36,
      "outputs": [
        {
          "output_type": "stream",
          "text": [
            "100%|██████████| 231508/231508 [00:00<00:00, 7607450.10B/s]\n"
          ],
          "name": "stderr"
        }
      ]
    },
    {
      "cell_type": "code",
      "metadata": {
        "colab": {
          "base_uri": "https://localhost:8080/"
        },
        "id": "26trq3gIrJeG",
        "outputId": "88e09f72-245e-4be2-ba87-ebe6fd0cff13"
      },
      "source": [
        "tokenizer.tokenize(X_train[8])"
      ],
      "execution_count": 39,
      "outputs": [
        {
          "output_type": "execute_result",
          "data": {
            "text/plain": [
              "['close', 'close', 'close', 'open']"
            ]
          },
          "metadata": {
            "tags": []
          },
          "execution_count": 39
        }
      ]
    },
    {
      "cell_type": "code",
      "metadata": {
        "colab": {
          "base_uri": "https://localhost:8080/"
        },
        "id": "1k9rcOzQr5Zm",
        "outputId": "523abaff-f4f9-4ac6-beaa-216294dfca5d"
      },
      "source": [
        "train_tokens = list(map(lambda t: ['[CLS]'] + tokenizer.tokenize(t)[:510] + ['[SEP]'], train_texts))\n",
        "test_tokens = list(map(lambda t: ['[CLS]'] + tokenizer.tokenize(t)[:510] + ['[SEP]'], test_texts))\n",
        "\n",
        "len(train_tokens), len(test_tokens)                   \n",
        "                   "
      ],
      "execution_count": 40,
      "outputs": [
        {
          "output_type": "execute_result",
          "data": {
            "text/plain": [
              "(355, 89)"
            ]
          },
          "metadata": {
            "tags": []
          },
          "execution_count": 40
        }
      ]
    },
    {
      "cell_type": "code",
      "metadata": {
        "colab": {
          "base_uri": "https://localhost:8080/"
        },
        "id": "9Ca7KKnhuT5c",
        "outputId": "11b8c92b-af61-4719-b696-cbe4b9d509c0"
      },
      "source": [
        "train_tokens_ids = pad_sequences(list(map(tokenizer.convert_tokens_to_ids, train_tokens)), maxlen=512, truncating=\"post\", padding=\"post\", dtype=\"int\")\n",
        "test_tokens_ids = pad_sequences(list(map(tokenizer.convert_tokens_to_ids, test_tokens)), maxlen=512, truncating=\"post\", padding=\"post\", dtype=\"int\")\n",
        "\n",
        "train_tokens_ids.shape, test_tokens_ids.shape"
      ],
      "execution_count": 41,
      "outputs": [
        {
          "output_type": "execute_result",
          "data": {
            "text/plain": [
              "((355, 512), (89, 512))"
            ]
          },
          "metadata": {
            "tags": []
          },
          "execution_count": 41
        }
      ]
    },
    {
      "cell_type": "code",
      "metadata": {
        "colab": {
          "base_uri": "https://localhost:8080/"
        },
        "id": "LcbURFxZvQZi",
        "outputId": "928ae7aa-ed23-4e88-f96e-574f995cd6ae"
      },
      "source": [
        "y_test #Chaeck the test actual results"
      ],
      "execution_count": 42,
      "outputs": [
        {
          "output_type": "execute_result",
          "data": {
            "text/plain": [
              "array(['normal', 'normal', 'normal', 'normal', 'normal', 'normal',\n",
              "       'normal', 'normal', 'intrusion', 'normal', 'normal', 'normal',\n",
              "       'normal', 'normal', 'normal', 'intrusion', 'intrusion', 'normal',\n",
              "       'normal', 'intrusion', 'normal', 'intrusion', 'normal',\n",
              "       'intrusion', 'intrusion', 'normal', 'normal', 'normal',\n",
              "       'intrusion', 'normal', 'normal', 'intrusion', 'intrusion',\n",
              "       'normal', 'intrusion', 'normal', 'normal', 'normal', 'normal',\n",
              "       'normal', 'normal', 'normal', 'normal', 'intrusion', 'intrusion',\n",
              "       'normal', 'normal', 'intrusion', 'intrusion', 'intrusion',\n",
              "       'normal', 'normal', 'normal', 'normal', 'intrusion', 'intrusion',\n",
              "       'normal', 'normal', 'normal', 'normal', 'normal', 'intrusion',\n",
              "       'normal', 'normal', 'normal', 'normal', 'normal', 'intrusion',\n",
              "       'normal', 'normal', 'intrusion', 'normal', 'normal', 'normal',\n",
              "       'intrusion', 'intrusion', 'normal', 'normal', 'intrusion',\n",
              "       'normal', 'normal', 'intrusion', 'normal', 'intrusion',\n",
              "       'intrusion', 'normal', 'normal', 'normal', 'normal'], dtype='<U9')"
            ]
          },
          "metadata": {
            "tags": []
          },
          "execution_count": 42
        }
      ]
    },
    {
      "cell_type": "code",
      "metadata": {
        "colab": {
          "base_uri": "https://localhost:8080/"
        },
        "id": "F7POtHuIOV-6",
        "outputId": "30109a49-ec15-4d3b-d0a1-55149ed4b4a3"
      },
      "source": [
        "train_y = np.array(train_labels) == 'normal'\n",
        "test_y = np.array(test_labels) == 'normal'\n",
        "train_y.shape, test_y.shape, np.mean(train_y), np.mean(test_y)"
      ],
      "execution_count": 43,
      "outputs": [
        {
          "output_type": "execute_result",
          "data": {
            "text/plain": [
              "((355,), (89,), 0.5521126760563381, 0.6966292134831461)"
            ]
          },
          "metadata": {
            "tags": []
          },
          "execution_count": 43
        }
      ]
    },
    {
      "cell_type": "markdown",
      "metadata": {
        "id": "C3kRD1fx0-9I"
      },
      "source": [
        "add bert masks to the train and test models"
      ]
    },
    {
      "cell_type": "code",
      "metadata": {
        "id": "U-xXMEqXOWTE"
      },
      "source": [
        "train_masks = [[float(i > 0) for i in ii] for ii in train_tokens_ids]\n",
        "test_masks = [[float(i > 0) for i in ii] for ii in test_tokens_ids]"
      ],
      "execution_count": 44,
      "outputs": []
    },
    {
      "cell_type": "markdown",
      "metadata": {
        "id": "r_hEhebQ3YqI"
      },
      "source": [
        "# Bert Model"
      ]
    },
    {
      "cell_type": "markdown",
      "metadata": {
        "id": "2XJs0vNm1LRJ"
      },
      "source": [
        "Importing the Bert classifer Trained model in program and we can also load other bert models form github link\n",
        "\"https://github.com/google-research/bert\""
      ]
    },
    {
      "cell_type": "code",
      "metadata": {
        "id": "E234ByBa3Qtb"
      },
      "source": [
        "class BertBinaryClassifier(nn.Module):\n",
        "    def __init__(self, dropout=0.1):\n",
        "        super(BertBinaryClassifier, self).__init__()\n",
        "\n",
        "        self.bert = BertModel.from_pretrained('bert-base-uncased')\n",
        "\n",
        "        self.dropout = nn.Dropout(dropout)\n",
        "        self.linear = nn.Linear(768, 1)\n",
        "        self.sigmoid = nn.Sigmoid()\n",
        "    \n",
        "    def forward(self, tokens, masks=None):\n",
        "        _, pooled_output = self.bert(tokens, attention_mask=masks, output_all_encoded_layers=False)\n",
        "        dropout_output = self.dropout(pooled_output)\n",
        "        linear_output = self.linear(dropout_output)\n",
        "        proba = self.sigmoid(linear_output)\n",
        "        return proba\n",
        "        "
      ],
      "execution_count": 49,
      "outputs": []
    },
    {
      "cell_type": "markdown",
      "metadata": {
        "id": "o_woJ2Su1lO0"
      },
      "source": [
        "For this model GPU is very usefull with out GPU it take a lot of time to run so it is recomende to run on GPU if not avilable then you can also use cpu but it is better to used cloud computing like goolge colab"
      ]
    },
    {
      "cell_type": "code",
      "metadata": {
        "colab": {
          "base_uri": "https://localhost:8080/"
        },
        "id": "ED9SE1Ka8W9x",
        "outputId": "89c331f8-f3b7-4cfc-f570-5c331e5c3625"
      },
      "source": [
        "device = torch.device(\"cuda\" if torch.cuda.is_available() else \"cpu\")\n",
        "device"
      ],
      "execution_count": 50,
      "outputs": [
        {
          "output_type": "execute_result",
          "data": {
            "text/plain": [
              "device(type='cuda')"
            ]
          },
          "metadata": {
            "tags": []
          },
          "execution_count": 50
        }
      ]
    },
    {
      "cell_type": "markdown",
      "metadata": {
        "id": "njY5vUEb2EtK"
      },
      "source": [
        "store the bert classifer model in to new variable for training "
      ]
    },
    {
      "cell_type": "code",
      "metadata": {
        "colab": {
          "base_uri": "https://localhost:8080/"
        },
        "id": "Sf9n8zouENRi",
        "outputId": "0e632cea-02b5-4f8f-949a-5cecb096386b"
      },
      "source": [
        "bert_clf = BertBinaryClassifier()\n",
        "bert_clf = bert_clf.cuda()\n"
      ],
      "execution_count": 52,
      "outputs": [
        {
          "output_type": "stream",
          "text": [
            "100%|██████████| 407873900/407873900 [00:06<00:00, 66705546.83B/s]\n"
          ],
          "name": "stderr"
        }
      ]
    },
    {
      "cell_type": "code",
      "metadata": {
        "colab": {
          "base_uri": "https://localhost:8080/"
        },
        "id": "LOQ-870M7VWy",
        "outputId": "9a1bfd13-98c4-422a-911b-b4fc85ad915b"
      },
      "source": [
        "x = torch.tensor(train_tokens_ids[:3]).to(device)\n",
        "y, pooled = bert_clf.bert(x, output_all_encoded_layers=False)\n",
        "x.shape, y.shape, pooled.shape"
      ],
      "execution_count": 53,
      "outputs": [
        {
          "output_type": "execute_result",
          "data": {
            "text/plain": [
              "(torch.Size([3, 512]), torch.Size([3, 512, 768]), torch.Size([3, 768]))"
            ]
          },
          "metadata": {
            "tags": []
          },
          "execution_count": 53
        }
      ]
    },
    {
      "cell_type": "code",
      "metadata": {
        "colab": {
          "base_uri": "https://localhost:8080/"
        },
        "id": "LCb_pK4X7hb9",
        "outputId": "d81e5176-597c-444d-fba8-81ff6ee9b127"
      },
      "source": [
        "y = bert_clf(x)\n",
        "y.cpu().detach().numpy()"
      ],
      "execution_count": 54,
      "outputs": [
        {
          "output_type": "execute_result",
          "data": {
            "text/plain": [
              "array([[0.40634346],\n",
              "       [0.43269828],\n",
              "       [0.43176568]], dtype=float32)"
            ]
          },
          "metadata": {
            "tags": []
          },
          "execution_count": 54
        }
      ]
    },
    {
      "cell_type": "code",
      "metadata": {
        "colab": {
          "base_uri": "https://localhost:8080/",
          "height": 35
        },
        "id": "KzzsUZOUFcxp",
        "outputId": "d257ea3d-4be6-4fbd-8f6b-d0d87f8afd07"
      },
      "source": [
        "y, x, pooled = None, None, None\n",
        "torch.cuda.empty_cache()\n",
        "str(torch.cuda.memory_allocated(device)/1000000 ) + 'M'"
      ],
      "execution_count": 55,
      "outputs": [
        {
          "output_type": "execute_result",
          "data": {
            "application/vnd.google.colaboratory.intrinsic+json": {
              "type": "string"
            },
            "text/plain": [
              "'439.065088M'"
            ]
          },
          "metadata": {
            "tags": []
          },
          "execution_count": 55
        }
      ]
    },
    {
      "cell_type": "markdown",
      "metadata": {
        "id": "c9LPIYcn99r8"
      },
      "source": [
        "# Fine-tune BERT"
      ]
    },
    {
      "cell_type": "markdown",
      "metadata": {
        "id": "RWjHhJyX2c0K"
      },
      "source": [
        "Select the batch size and number of epoch for training.\n",
        "now in this case data set is low so it is better to use less epoch becouse bert base model has 12 layers and 768 peramerts"
      ]
    },
    {
      "cell_type": "code",
      "metadata": {
        "id": "ZUkXhM1k_TAl"
      },
      "source": [
        "BATCH_SIZE = 4\n",
        "EPOCHS = 10"
      ],
      "execution_count": 56,
      "outputs": []
    },
    {
      "cell_type": "markdown",
      "metadata": {
        "id": "RLuT-dTY27ih"
      },
      "source": [
        "Load the traing and testing dataset in to model"
      ]
    },
    {
      "cell_type": "code",
      "metadata": {
        "colab": {
          "base_uri": "https://localhost:8080/",
          "height": 35
        },
        "id": "jGwV0yqg_o2u",
        "outputId": "559447a5-b87e-4c9c-fdb7-ad5a23764905"
      },
      "source": [
        "train_tokens_tensor = torch.tensor(train_tokens_ids)\n",
        "train_y_tensor = torch.tensor(train_y.reshape(-1, 1)).float()\n",
        "\n",
        "test_tokens_tensor = torch.tensor(test_tokens_ids)\n",
        "test_y_tensor = torch.tensor(test_y.reshape(-1, 1)).float()\n",
        "\n",
        "train_masks_tensor = torch.tensor(train_masks)\n",
        "test_masks_tensor = torch.tensor(test_masks)\n",
        "\n",
        "str(torch.cuda.memory_allocated(device)/1000000 ) + 'M'"
      ],
      "execution_count": 57,
      "outputs": [
        {
          "output_type": "execute_result",
          "data": {
            "application/vnd.google.colaboratory.intrinsic+json": {
              "type": "string"
            },
            "text/plain": [
              "'439.065088M'"
            ]
          },
          "metadata": {
            "tags": []
          },
          "execution_count": 57
        }
      ]
    },
    {
      "cell_type": "code",
      "metadata": {
        "id": "2Yl2JpCe9YAu"
      },
      "source": [
        "train_dataset = TensorDataset(train_tokens_tensor, train_masks_tensor, train_y_tensor)\n",
        "train_sampler = RandomSampler(train_dataset)\n",
        "train_dataloader = DataLoader(train_dataset, sampler=train_sampler, batch_size=BATCH_SIZE)\n",
        "\n",
        "test_dataset = TensorDataset(test_tokens_tensor, test_masks_tensor, test_y_tensor)\n",
        "test_sampler = SequentialSampler(test_dataset)\n",
        "test_dataloader = DataLoader(test_dataset, sampler=test_sampler, batch_size=BATCH_SIZE)\n"
      ],
      "execution_count": 58,
      "outputs": []
    },
    {
      "cell_type": "code",
      "metadata": {
        "id": "JF_QD0naS8EQ"
      },
      "source": [
        "param_optimizer = list(bert_clf.sigmoid.named_parameters()) \n",
        "optimizer_grouped_parameters = [{\"params\": [p for n, p in param_optimizer]}]"
      ],
      "execution_count": 59,
      "outputs": []
    },
    {
      "cell_type": "markdown",
      "metadata": {
        "id": "BlZg8r_H3Xsu"
      },
      "source": [
        "Bert model is used adam optimzer for more detail on the model use the github link given above"
      ]
    },
    {
      "cell_type": "code",
      "metadata": {
        "id": "b28PcoDh_cyd"
      },
      "source": [
        "optimizer = Adam(bert_clf.parameters(), lr=3e-6)"
      ],
      "execution_count": 60,
      "outputs": []
    },
    {
      "cell_type": "code",
      "metadata": {
        "id": "Z6yIChYvBP5F"
      },
      "source": [
        " torch.cuda.empty_cache()"
      ],
      "execution_count": 61,
      "outputs": []
    },
    {
      "cell_type": "markdown",
      "metadata": {
        "id": "JgL4MhXx3K_Q"
      },
      "source": [
        "###Compile the bert classifer model"
      ]
    },
    {
      "cell_type": "code",
      "metadata": {
        "colab": {
          "base_uri": "https://localhost:8080/"
        },
        "id": "mqh8tCl4AFjo",
        "outputId": "48d82dc2-0fea-4263-e0bb-34bf2b53be4d"
      },
      "source": [
        "for epoch_num in range(EPOCHS):\n",
        "    bert_clf.train()\n",
        "    train_loss = 0\n",
        "    for step_num, batch_data in enumerate(train_dataloader):\n",
        "        token_ids, masks, labels = tuple(t.to(device) for t in batch_data)\n",
        "        print(str(torch.cuda.memory_allocated(device)/1000000 ) + 'M')\n",
        "        logits = bert_clf(token_ids, masks)\n",
        "        \n",
        "        loss_func = nn.BCELoss()\n",
        "\n",
        "        batch_loss = loss_func(logits, labels)\n",
        "        train_loss += batch_loss.item()\n",
        "        \n",
        "        \n",
        "        bert_clf.zero_grad()\n",
        "        batch_loss.backward()\n",
        "        \n",
        "\n",
        "        clip_grad_norm_(parameters=bert_clf.parameters(), max_norm=1.0)\n",
        "        optimizer.step()\n",
        "        \n",
        "        clear_output(wait=True)\n",
        "        print('Epoch: ', epoch_num + 1)\n",
        "        print(\"\\r\" + \"{0}/{1} loss: {2} \".format(step_num, len(train_data) / BATCH_SIZE, train_loss / (step_num + 1)))\n",
        "        "
      ],
      "execution_count": 64,
      "outputs": [
        {
          "output_type": "stream",
          "text": [
            "Epoch:  10\n",
            "\r88/88.75 loss: 0.5975740893503253 \n"
          ],
          "name": "stdout"
        }
      ]
    },
    {
      "cell_type": "markdown",
      "metadata": {
        "id": "3rMdTpXI3nDh"
      },
      "source": [
        "#Test the train model with tesing dataset and Measure the accuracy of the model"
      ]
    },
    {
      "cell_type": "code",
      "metadata": {
        "id": "GHFWhkRYHv5l"
      },
      "source": [
        "bert_clf.eval()\n",
        "bert_predicted = []\n",
        "all_logits = []\n",
        "with torch.no_grad():\n",
        "    for step_num, batch_data in enumerate(test_dataloader):\n",
        "\n",
        "        token_ids, masks, labels = tuple(t.to(device) for t in batch_data)\n",
        "\n",
        "        logits = bert_clf(token_ids, masks)\n",
        "        loss_func = nn.BCELoss()\n",
        "        loss = loss_func(logits, labels)\n",
        "        numpy_logits = logits.cpu().detach().numpy()\n",
        "        \n",
        "        bert_predicted += list(numpy_logits[:, 0] > 0.5)\n",
        "        all_logits += list(numpy_logits[:, 0])\n",
        "    "
      ],
      "execution_count": 65,
      "outputs": []
    },
    {
      "cell_type": "code",
      "metadata": {
        "colab": {
          "base_uri": "https://localhost:8080/"
        },
        "id": "vg_sX9BjooL-",
        "outputId": "5e724a42-4904-4d19-f330-122602ea32bd"
      },
      "source": [
        "np.mean(bert_predicted)"
      ],
      "execution_count": 66,
      "outputs": [
        {
          "output_type": "execute_result",
          "data": {
            "text/plain": [
              "0.6179775280898876"
            ]
          },
          "metadata": {
            "tags": []
          },
          "execution_count": 66
        }
      ]
    },
    {
      "cell_type": "code",
      "metadata": {
        "colab": {
          "base_uri": "https://localhost:8080/"
        },
        "id": "-DmIJqUnkVM8",
        "outputId": "42ffa339-fcec-4cb1-92a7-ea7aebd1c042"
      },
      "source": [
        "print(classification_report(test_y, bert_predicted))"
      ],
      "execution_count": 67,
      "outputs": [
        {
          "output_type": "stream",
          "text": [
            "              precision    recall  f1-score   support\n",
            "\n",
            "       False       0.35      0.44      0.39        27\n",
            "        True       0.73      0.65      0.68        62\n",
            "\n",
            "    accuracy                           0.58        89\n",
            "   macro avg       0.54      0.54      0.54        89\n",
            "weighted avg       0.61      0.58      0.60        89\n",
            "\n"
          ],
          "name": "stdout"
        }
      ]
    },
    {
      "cell_type": "code",
      "metadata": {
        "id": "eIBvoExLpOne"
      },
      "source": [
        ""
      ],
      "execution_count": null,
      "outputs": []
    },
    {
      "cell_type": "code",
      "metadata": {
        "id": "uRCi3vZtsP9u"
      },
      "source": [
        ""
      ],
      "execution_count": null,
      "outputs": []
    }
  ]
}